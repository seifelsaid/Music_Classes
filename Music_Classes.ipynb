{
 "cells": [
  {
   "cell_type": "markdown",
   "id": "35570f70-9f52-41f6-8f3a-8a4212ff5dfe",
   "metadata": {},
   "source": [
    "<img src=\"Downloads/Music.jfif\" alt=\"Image Title\" width=\"500\" />"
   ]
  },
  {
   "cell_type": "markdown",
   "id": "e7efb1e8-06c8-4f38-84fa-5473f246bbfe",
   "metadata": {},
   "source": [
    "## the classes of Musics\n",
    "\n",
    "- Acoustic/Folk_0\n",
    "Acoustic Folk Genre\n",
    "\n",
    "- Alt_Music_1\n",
    "Alt Music Genre\n",
    "\n",
    "- Blues_2\n",
    "Blues Genre\n",
    "\n",
    "- Bollywood_3\n",
    "Bollywood Music Genre\n",
    "\n",
    "- Country_4\n",
    "Country Music Genre\n",
    "\n",
    "- HipHop_5\n",
    "HipHop Music Genre\n",
    "\n",
    "- Indie Alt_6\n",
    "Indie Music Genre\n",
    "\n",
    "- Instrumental_7\n",
    "Instrumental Music Genre\n",
    "\n",
    "- Metal_8\n",
    "Metal Music Genre\n",
    "\n",
    "- Pop_9\n",
    "Pop Music Genre\n",
    "- Rock_10 "
   ]
  },
  {
   "cell_type": "markdown",
   "id": "192a22d3-6368-471a-9e75-34eb6686a3c2",
   "metadata": {},
   "source": [
    "## the instrumentalness column:\n",
    "## is a term often used for which a song is instrumental (i.e., contains no vocals or minimal vocal content). It is typically represented as a numerical value ranging from 0 to 1, where:\n",
    "\n",
    "- ## 0 indicates that the track is primarily vocal, with little to no instrumental sections.\n",
    "- ## 1 indicates that the track is purely instrumental, containing no vocals at al"
   ]
  },
  {
   "cell_type": "markdown",
   "id": "affd0247-c8e4-4bf7-81fa-5033eb49bb28",
   "metadata": {},
   "source": [
    "## speechiness columns:\n",
    "## is an audio feature that helps distinguish between speech and music in a track.\n",
    "### -Low speechiness (closer to 0): The track is likely more musical, with little or no spoken words. Examples might include instrumental music or purely sung tracks.\n",
    "### - Medium speechiness (around 0.33): The track contains both music and speech, such as a song with a verse of rap or a mix of music and spoken content.\n",
    "### - High speechiness (closer to 1): The track is mostly or entirely composed of spoken words, such as podcasts, audiobooks, or speeches.\n",
    "## speechiness is the opposite of the instrumentalness "
   ]
  },
  {
   "cell_type": "code",
   "execution_count": 132,
   "id": "bd017b77-7bd7-4ea2-8de6-504a87c1854a",
   "metadata": {},
   "outputs": [],
   "source": [
    "import pandas as pd\n",
    "import seaborn as sns\n",
    "import numpy as np\n",
    "from sklearn.impute import KNNImputer\n",
    "import matplotlib.pyplot as plt\n",
    "\n",
    "from sklearn.feature_extraction.text import TfidfVectorizer\n",
    "from imblearn.over_sampling import SMOTE\n",
    "from sklearn.model_selection import train_test_split\n",
    "from sklearn.feature_selection import SelectKBest, f_regression\n",
    "from sklearn.preprocessing import StandardScaler\n",
    "from sklearn.neighbors import KNeighborsClassifier\n",
    "from imblearn.pipeline import Pipeline\n",
    "from sklearn.model_selection import train_test_split, GridSearchCV\n",
    "from sklearn.metrics import classification_report, confusion_matrix\n",
    "from sklearn.ensemble import RandomForestClassifier\n",
    "from sklearn.metrics import accuracy_score, classification_report\n",
    "from sklearn.feature_extraction.text import CountVectorizer\n",
    "from sklearn.pipeline import Pipeline\n",
    "from sklearn.naive_bayes import MultinomialNB\n",
    "import re\n",
    "import nltk\n",
    "from imblearn.under_sampling import TomekLinks\n",
    "from sklearn.feature_extraction.text import TfidfVectorizer\n",
    "from scipy.sparse import  hstack,csr_matrix\n",
    "from sklearn.ensemble import VotingClassifier\n",
    "from imblearn.over_sampling import SMOTE\n",
    "from imblearn.under_sampling import RandomUnderSampler\n",
    "from sklearn.linear_model import LogisticRegression,RidgeClassifier\n",
    "from sklearn.ensemble import StackingClassifier"
   ]
  },
  {
   "cell_type": "code",
   "execution_count": 7,
   "id": "6f5136ec-0cfa-446e-9072-9782a91a42e5",
   "metadata": {},
   "outputs": [
    {
     "data": {
      "text/html": [
       "<div>\n",
       "<style scoped>\n",
       "    .dataframe tbody tr th:only-of-type {\n",
       "        vertical-align: middle;\n",
       "    }\n",
       "\n",
       "    .dataframe tbody tr th {\n",
       "        vertical-align: top;\n",
       "    }\n",
       "\n",
       "    .dataframe thead th {\n",
       "        text-align: right;\n",
       "    }\n",
       "</style>\n",
       "<table border=\"1\" class=\"dataframe\">\n",
       "  <thead>\n",
       "    <tr style=\"text-align: right;\">\n",
       "      <th></th>\n",
       "      <th>Artist Name</th>\n",
       "      <th>Track Name</th>\n",
       "      <th>Popularity</th>\n",
       "      <th>danceability</th>\n",
       "      <th>energy</th>\n",
       "      <th>key</th>\n",
       "      <th>loudness</th>\n",
       "      <th>mode</th>\n",
       "      <th>speechiness</th>\n",
       "      <th>acousticness</th>\n",
       "      <th>instrumentalness</th>\n",
       "      <th>liveness</th>\n",
       "      <th>valence</th>\n",
       "      <th>tempo</th>\n",
       "      <th>duration_in min/ms</th>\n",
       "      <th>time_signature</th>\n",
       "      <th>Class</th>\n",
       "    </tr>\n",
       "  </thead>\n",
       "  <tbody>\n",
       "    <tr>\n",
       "      <th>0</th>\n",
       "      <td>Bruno Mars</td>\n",
       "      <td>That's What I Like (feat. Gucci Mane)</td>\n",
       "      <td>60.0</td>\n",
       "      <td>0.854</td>\n",
       "      <td>0.564</td>\n",
       "      <td>1.0</td>\n",
       "      <td>-4.964</td>\n",
       "      <td>1</td>\n",
       "      <td>0.0485</td>\n",
       "      <td>0.017100</td>\n",
       "      <td>NaN</td>\n",
       "      <td>0.0849</td>\n",
       "      <td>0.8990</td>\n",
       "      <td>134.071</td>\n",
       "      <td>234596.0</td>\n",
       "      <td>4</td>\n",
       "      <td>5</td>\n",
       "    </tr>\n",
       "    <tr>\n",
       "      <th>1</th>\n",
       "      <td>Boston</td>\n",
       "      <td>Hitch a Ride</td>\n",
       "      <td>54.0</td>\n",
       "      <td>0.382</td>\n",
       "      <td>0.814</td>\n",
       "      <td>3.0</td>\n",
       "      <td>-7.230</td>\n",
       "      <td>1</td>\n",
       "      <td>0.0406</td>\n",
       "      <td>0.001100</td>\n",
       "      <td>0.004010</td>\n",
       "      <td>0.1010</td>\n",
       "      <td>0.5690</td>\n",
       "      <td>116.454</td>\n",
       "      <td>251733.0</td>\n",
       "      <td>4</td>\n",
       "      <td>10</td>\n",
       "    </tr>\n",
       "    <tr>\n",
       "      <th>2</th>\n",
       "      <td>The Raincoats</td>\n",
       "      <td>No Side to Fall In</td>\n",
       "      <td>35.0</td>\n",
       "      <td>0.434</td>\n",
       "      <td>0.614</td>\n",
       "      <td>6.0</td>\n",
       "      <td>-8.334</td>\n",
       "      <td>1</td>\n",
       "      <td>0.0525</td>\n",
       "      <td>0.486000</td>\n",
       "      <td>0.000196</td>\n",
       "      <td>0.3940</td>\n",
       "      <td>0.7870</td>\n",
       "      <td>147.681</td>\n",
       "      <td>109667.0</td>\n",
       "      <td>4</td>\n",
       "      <td>6</td>\n",
       "    </tr>\n",
       "    <tr>\n",
       "      <th>3</th>\n",
       "      <td>Deno</td>\n",
       "      <td>Lingo (feat. J.I &amp; Chunkz)</td>\n",
       "      <td>66.0</td>\n",
       "      <td>0.853</td>\n",
       "      <td>0.597</td>\n",
       "      <td>10.0</td>\n",
       "      <td>-6.528</td>\n",
       "      <td>0</td>\n",
       "      <td>0.0555</td>\n",
       "      <td>0.021200</td>\n",
       "      <td>NaN</td>\n",
       "      <td>0.1220</td>\n",
       "      <td>0.5690</td>\n",
       "      <td>107.033</td>\n",
       "      <td>173968.0</td>\n",
       "      <td>4</td>\n",
       "      <td>5</td>\n",
       "    </tr>\n",
       "    <tr>\n",
       "      <th>4</th>\n",
       "      <td>Red Hot Chili Peppers</td>\n",
       "      <td>Nobody Weird Like Me - Remastered</td>\n",
       "      <td>53.0</td>\n",
       "      <td>0.167</td>\n",
       "      <td>0.975</td>\n",
       "      <td>2.0</td>\n",
       "      <td>-4.279</td>\n",
       "      <td>1</td>\n",
       "      <td>0.2160</td>\n",
       "      <td>0.000169</td>\n",
       "      <td>0.016100</td>\n",
       "      <td>0.1720</td>\n",
       "      <td>0.0918</td>\n",
       "      <td>199.060</td>\n",
       "      <td>229960.0</td>\n",
       "      <td>4</td>\n",
       "      <td>10</td>\n",
       "    </tr>\n",
       "    <tr>\n",
       "      <th>...</th>\n",
       "      <td>...</td>\n",
       "      <td>...</td>\n",
       "      <td>...</td>\n",
       "      <td>...</td>\n",
       "      <td>...</td>\n",
       "      <td>...</td>\n",
       "      <td>...</td>\n",
       "      <td>...</td>\n",
       "      <td>...</td>\n",
       "      <td>...</td>\n",
       "      <td>...</td>\n",
       "      <td>...</td>\n",
       "      <td>...</td>\n",
       "      <td>...</td>\n",
       "      <td>...</td>\n",
       "      <td>...</td>\n",
       "      <td>...</td>\n",
       "    </tr>\n",
       "    <tr>\n",
       "      <th>17991</th>\n",
       "      <td>Green-House</td>\n",
       "      <td>Find Home</td>\n",
       "      <td>35.0</td>\n",
       "      <td>0.166</td>\n",
       "      <td>0.109</td>\n",
       "      <td>7.0</td>\n",
       "      <td>-17.100</td>\n",
       "      <td>0</td>\n",
       "      <td>0.0413</td>\n",
       "      <td>0.993000</td>\n",
       "      <td>0.824000</td>\n",
       "      <td>0.0984</td>\n",
       "      <td>0.1770</td>\n",
       "      <td>171.587</td>\n",
       "      <td>193450.0</td>\n",
       "      <td>3</td>\n",
       "      <td>6</td>\n",
       "    </tr>\n",
       "    <tr>\n",
       "      <th>17992</th>\n",
       "      <td>Micatone</td>\n",
       "      <td>All Gone</td>\n",
       "      <td>27.0</td>\n",
       "      <td>0.638</td>\n",
       "      <td>0.223</td>\n",
       "      <td>11.0</td>\n",
       "      <td>-10.174</td>\n",
       "      <td>0</td>\n",
       "      <td>0.0329</td>\n",
       "      <td>0.858000</td>\n",
       "      <td>0.000016</td>\n",
       "      <td>0.0705</td>\n",
       "      <td>0.3350</td>\n",
       "      <td>73.016</td>\n",
       "      <td>257067.0</td>\n",
       "      <td>4</td>\n",
       "      <td>2</td>\n",
       "    </tr>\n",
       "    <tr>\n",
       "      <th>17993</th>\n",
       "      <td>Smash Hit Combo</td>\n",
       "      <td>Peine perdue</td>\n",
       "      <td>34.0</td>\n",
       "      <td>0.558</td>\n",
       "      <td>0.981</td>\n",
       "      <td>4.0</td>\n",
       "      <td>-4.683</td>\n",
       "      <td>0</td>\n",
       "      <td>0.0712</td>\n",
       "      <td>0.000030</td>\n",
       "      <td>0.000136</td>\n",
       "      <td>0.6660</td>\n",
       "      <td>0.2620</td>\n",
       "      <td>105.000</td>\n",
       "      <td>216222.0</td>\n",
       "      <td>4</td>\n",
       "      <td>8</td>\n",
       "    </tr>\n",
       "    <tr>\n",
       "      <th>17994</th>\n",
       "      <td>Beherit</td>\n",
       "      <td>Salomon's Gate</td>\n",
       "      <td>29.0</td>\n",
       "      <td>0.215</td>\n",
       "      <td>0.805</td>\n",
       "      <td>6.0</td>\n",
       "      <td>-12.757</td>\n",
       "      <td>0</td>\n",
       "      <td>0.1340</td>\n",
       "      <td>0.001290</td>\n",
       "      <td>0.916000</td>\n",
       "      <td>0.2560</td>\n",
       "      <td>0.3550</td>\n",
       "      <td>131.363</td>\n",
       "      <td>219693.0</td>\n",
       "      <td>4</td>\n",
       "      <td>8</td>\n",
       "    </tr>\n",
       "    <tr>\n",
       "      <th>17995</th>\n",
       "      <td>The Raconteurs</td>\n",
       "      <td>Broken Boy Soldier</td>\n",
       "      <td>43.0</td>\n",
       "      <td>0.400</td>\n",
       "      <td>0.853</td>\n",
       "      <td>4.0</td>\n",
       "      <td>-5.320</td>\n",
       "      <td>0</td>\n",
       "      <td>0.0591</td>\n",
       "      <td>0.006040</td>\n",
       "      <td>0.212000</td>\n",
       "      <td>0.3340</td>\n",
       "      <td>0.3770</td>\n",
       "      <td>138.102</td>\n",
       "      <td>182227.0</td>\n",
       "      <td>4</td>\n",
       "      <td>10</td>\n",
       "    </tr>\n",
       "  </tbody>\n",
       "</table>\n",
       "<p>17996 rows × 17 columns</p>\n",
       "</div>"
      ],
      "text/plain": [
       "                 Artist Name                             Track Name  \\\n",
       "0                 Bruno Mars  That's What I Like (feat. Gucci Mane)   \n",
       "1                     Boston                           Hitch a Ride   \n",
       "2              The Raincoats                     No Side to Fall In   \n",
       "3                       Deno             Lingo (feat. J.I & Chunkz)   \n",
       "4      Red Hot Chili Peppers      Nobody Weird Like Me - Remastered   \n",
       "...                      ...                                    ...   \n",
       "17991            Green-House                              Find Home   \n",
       "17992               Micatone                               All Gone   \n",
       "17993        Smash Hit Combo                           Peine perdue   \n",
       "17994                Beherit                         Salomon's Gate   \n",
       "17995         The Raconteurs                     Broken Boy Soldier   \n",
       "\n",
       "       Popularity  danceability  energy   key  loudness  mode  speechiness  \\\n",
       "0            60.0         0.854   0.564   1.0    -4.964     1       0.0485   \n",
       "1            54.0         0.382   0.814   3.0    -7.230     1       0.0406   \n",
       "2            35.0         0.434   0.614   6.0    -8.334     1       0.0525   \n",
       "3            66.0         0.853   0.597  10.0    -6.528     0       0.0555   \n",
       "4            53.0         0.167   0.975   2.0    -4.279     1       0.2160   \n",
       "...           ...           ...     ...   ...       ...   ...          ...   \n",
       "17991        35.0         0.166   0.109   7.0   -17.100     0       0.0413   \n",
       "17992        27.0         0.638   0.223  11.0   -10.174     0       0.0329   \n",
       "17993        34.0         0.558   0.981   4.0    -4.683     0       0.0712   \n",
       "17994        29.0         0.215   0.805   6.0   -12.757     0       0.1340   \n",
       "17995        43.0         0.400   0.853   4.0    -5.320     0       0.0591   \n",
       "\n",
       "       acousticness  instrumentalness  liveness  valence    tempo  \\\n",
       "0          0.017100               NaN    0.0849   0.8990  134.071   \n",
       "1          0.001100          0.004010    0.1010   0.5690  116.454   \n",
       "2          0.486000          0.000196    0.3940   0.7870  147.681   \n",
       "3          0.021200               NaN    0.1220   0.5690  107.033   \n",
       "4          0.000169          0.016100    0.1720   0.0918  199.060   \n",
       "...             ...               ...       ...      ...      ...   \n",
       "17991      0.993000          0.824000    0.0984   0.1770  171.587   \n",
       "17992      0.858000          0.000016    0.0705   0.3350   73.016   \n",
       "17993      0.000030          0.000136    0.6660   0.2620  105.000   \n",
       "17994      0.001290          0.916000    0.2560   0.3550  131.363   \n",
       "17995      0.006040          0.212000    0.3340   0.3770  138.102   \n",
       "\n",
       "       duration_in min/ms  time_signature  Class  \n",
       "0                234596.0               4      5  \n",
       "1                251733.0               4     10  \n",
       "2                109667.0               4      6  \n",
       "3                173968.0               4      5  \n",
       "4                229960.0               4     10  \n",
       "...                   ...             ...    ...  \n",
       "17991            193450.0               3      6  \n",
       "17992            257067.0               4      2  \n",
       "17993            216222.0               4      8  \n",
       "17994            219693.0               4      8  \n",
       "17995            182227.0               4     10  \n",
       "\n",
       "[17996 rows x 17 columns]"
      ]
     },
     "execution_count": 7,
     "metadata": {},
     "output_type": "execute_result"
    }
   ],
   "source": [
    "df=pd.read_csv(\"Desktop/Data/train.csv\",sep=\",\",encoding=\"latin1\")\n",
    "df"
   ]
  },
  {
   "cell_type": "code",
   "execution_count": 8,
   "id": "bdc4911b-4566-4be0-a9c1-d53626f3c053",
   "metadata": {},
   "outputs": [
    {
     "name": "stdout",
     "output_type": "stream",
     "text": [
      "<class 'pandas.core.frame.DataFrame'>\n",
      "RangeIndex: 17996 entries, 0 to 17995\n",
      "Data columns (total 17 columns):\n",
      " #   Column              Non-Null Count  Dtype  \n",
      "---  ------              --------------  -----  \n",
      " 0   Artist Name         17996 non-null  object \n",
      " 1   Track Name          17996 non-null  object \n",
      " 2   Popularity          17568 non-null  float64\n",
      " 3   danceability        17996 non-null  float64\n",
      " 4   energy              17996 non-null  float64\n",
      " 5   key                 15982 non-null  float64\n",
      " 6   loudness            17996 non-null  float64\n",
      " 7   mode                17996 non-null  int64  \n",
      " 8   speechiness         17996 non-null  float64\n",
      " 9   acousticness        17996 non-null  float64\n",
      " 10  instrumentalness    13619 non-null  float64\n",
      " 11  liveness            17996 non-null  float64\n",
      " 12  valence             17996 non-null  float64\n",
      " 13  tempo               17996 non-null  float64\n",
      " 14  duration_in min/ms  17996 non-null  float64\n",
      " 15  time_signature      17996 non-null  int64  \n",
      " 16  Class               17996 non-null  int64  \n",
      "dtypes: float64(12), int64(3), object(2)\n",
      "memory usage: 2.3+ MB\n"
     ]
    }
   ],
   "source": [
    "df.info()"
   ]
  },
  {
   "cell_type": "code",
   "execution_count": 9,
   "id": "2267c25d-617a-47b4-953e-aa888f7b07b0",
   "metadata": {},
   "outputs": [
    {
     "data": {
      "text/plain": [
       "Artist Name              0\n",
       "Track Name               0\n",
       "Popularity             428\n",
       "danceability             0\n",
       "energy                   0\n",
       "key                   2014\n",
       "loudness                 0\n",
       "mode                     0\n",
       "speechiness              0\n",
       "acousticness             0\n",
       "instrumentalness      4377\n",
       "liveness                 0\n",
       "valence                  0\n",
       "tempo                    0\n",
       "duration_in min/ms       0\n",
       "time_signature           0\n",
       "Class                    0\n",
       "dtype: int64"
      ]
     },
     "execution_count": 9,
     "metadata": {},
     "output_type": "execute_result"
    }
   ],
   "source": [
    "df.isnull().sum()"
   ]
  },
  {
   "cell_type": "code",
   "execution_count": 10,
   "id": "e7763cca-9a06-4bd2-ac81-1c298091cca9",
   "metadata": {},
   "outputs": [
    {
     "data": {
      "text/plain": [
       "<seaborn.axisgrid.FacetGrid at 0x1701b1a8620>"
      ]
     },
     "execution_count": 10,
     "metadata": {},
     "output_type": "execute_result"
    },
    {
     "data": {
      "image/png": "[encoded data removed]",
      "text/plain": [
       "<Figure size 500x500 with 1 Axes>"
      ]
     },
     "metadata": {},
     "output_type": "display_data"
    }
   ],
   "source": [
    "sns.displot(df[\"Popularity\"])"
   ]
  },
  {
   "cell_type": "code",
   "execution_count": 11,
   "id": "b6bf6214-f110-4f73-9357-c7fa24913c78",
   "metadata": {},
   "outputs": [],
   "source": [
    "df = df[df[\"Popularity\"].notnull()]"
   ]
  },
  {
   "cell_type": "markdown",
   "id": "5e0c8bcd-cf30-4d85-9ff4-72cbd6a9dc9e",
   "metadata": {},
   "source": [
    "## i reomoved  the rows that have null in popularity because there are small number and the Popularity of the singer will not be importatnt for the user or the model to predict"
   ]
  },
  {
   "cell_type": "code",
   "execution_count": 13,
   "id": "42c0a8ff-5cbb-4dde-8344-3aada8688b51",
   "metadata": {},
   "outputs": [
    {
     "data": {
      "text/plain": [
       "(17568, 17)"
      ]
     },
     "execution_count": 13,
     "metadata": {},
     "output_type": "execute_result"
    }
   ],
   "source": [
    "df.shape"
   ]
  },
  {
   "cell_type": "code",
   "execution_count": 14,
   "id": "3c396dea-a605-4217-8bfe-ac1324786de9",
   "metadata": {},
   "outputs": [
    {
     "data": {
      "text/plain": [
       "Artist Name              0\n",
       "Track Name               0\n",
       "Popularity               0\n",
       "danceability             0\n",
       "energy                   0\n",
       "key                   1955\n",
       "loudness                 0\n",
       "mode                     0\n",
       "speechiness              0\n",
       "acousticness             0\n",
       "instrumentalness      4262\n",
       "liveness                 0\n",
       "valence                  0\n",
       "tempo                    0\n",
       "duration_in min/ms       0\n",
       "time_signature           0\n",
       "Class                    0\n",
       "dtype: int64"
      ]
     },
     "execution_count": 14,
     "metadata": {},
     "output_type": "execute_result"
    }
   ],
   "source": [
    "df.isnull().sum()"
   ]
  },
  {
   "cell_type": "code",
   "execution_count": 15,
   "id": "510106c8-6c2c-4b9a-a3c1-2329043e4cd3",
   "metadata": {},
   "outputs": [
    {
     "data": {
      "text/plain": [
       "<seaborn.axisgrid.FacetGrid at 0x1701d0742c0>"
      ]
     },
     "execution_count": 15,
     "metadata": {},
     "output_type": "execute_result"
    },
    {
     "data": {
      "image/png": "[encoded data removed]",
      "text/plain": [
       "<Figure size 500x500 with 1 Axes>"
      ]
     },
     "metadata": {},
     "output_type": "display_data"
    }
   ],
   "source": [
    "sns.displot(df[\"key\"])"
   ]
  },
  {
   "cell_type": "code",
   "execution_count": 16,
   "id": "29bea42d-b476-4513-a3de-1397714e9f29",
   "metadata": {},
   "outputs": [],
   "source": [
    "imputer = KNNImputer(n_neighbors=5)"
   ]
  },
  {
   "cell_type": "code",
   "execution_count": 17,
   "id": "9f2a7406-ffd5-405c-a7aa-4c1a6d7f8e4d",
   "metadata": {},
   "outputs": [
    {
     "name": "stderr",
     "output_type": "stream",
     "text": [
      "C:\\Users\\hp\\AppData\\Local\\Temp\\ipykernel_16676\\259945841.py:10: SettingWithCopyWarning: \n",
      "A value is trying to be set on a copy of a slice from a DataFrame.\n",
      "Try using .loc[row_indexer,col_indexer] = value instead\n",
      "\n",
      "See the caveats in the documentation: https://pandas.pydata.org/pandas-docs/stable/user_guide/indexing.html#returning-a-view-versus-a-copy\n",
      "  df[\"key\"] = imputed_data[:, 0]\n"
     ]
    }
   ],
   "source": [
    "numeric_data = df[[\"key\"]]\n",
    "\n",
    "\n",
    "imputer = KNNImputer(n_neighbors=5) \n",
    "\n",
    "\n",
    "imputed_data = imputer.fit_transform(numeric_data)\n",
    "\n",
    "\n",
    "df[\"key\"] = imputed_data[:, 0]  \n"
   ]
  },
  {
   "cell_type": "code",
   "execution_count": 18,
   "id": "440de8f1-7698-4347-86ec-725609f3370f",
   "metadata": {},
   "outputs": [
    {
     "data": {
      "text/plain": [
       "<seaborn.axisgrid.FacetGrid at 0x1701d540d10>"
      ]
     },
     "execution_count": 18,
     "metadata": {},
     "output_type": "execute_result"
    },
    {
     "data": {
      "image/png": "[encoded data removed]",
      "text/plain": [
       "<Figure size 500x500 with 1 Axes>"
      ]
     },
     "metadata": {},
     "output_type": "display_data"
    }
   ],
   "source": [
    "sns.displot(df[\"key\"])"
   ]
  },
  {
   "cell_type": "markdown",
   "id": "1770628c-c63f-4a0c-be18-3a3cc54da2db",
   "metadata": {},
   "source": [
    "## when i use knn to fill missing values it changed the distributaion of data \n",
    "## and the key columns one of important data is should be good to increase features for the model and show the user the right key for the song \n",
    "## so i will not take knn "
   ]
  },
  {
   "cell_type": "code",
   "execution_count": 20,
   "id": "673e6544-7f7a-4229-8e14-7442208b29e3",
   "metadata": {},
   "outputs": [
    {
     "name": "stderr",
     "output_type": "stream",
     "text": [
      "C:\\Users\\hp\\AppData\\Local\\Temp\\ipykernel_16676\\1118630074.py:2: SettingWithCopyWarning: \n",
      "A value is trying to be set on a copy of a slice from a DataFrame.\n",
      "Try using .loc[row_indexer,col_indexer] = value instead\n",
      "\n",
      "See the caveats in the documentation: https://pandas.pydata.org/pandas-docs/stable/user_guide/indexing.html#returning-a-view-versus-a-copy\n",
      "  df[\"key\"]=df[\"key\"].fillna(pd.Series(np.random.choice(list_key,len(df.index))))\n"
     ]
    }
   ],
   "source": [
    "list_key=df[\"key\"].dropna()\n",
    "df[\"key\"]=df[\"key\"].fillna(pd.Series(np.random.choice(list_key,len(df.index))))"
   ]
  },
  {
   "cell_type": "code",
   "execution_count": 21,
   "id": "a75c5b67-10f2-40ea-874a-927f7c42b99c",
   "metadata": {},
   "outputs": [
    {
     "data": {
      "text/plain": [
       "<seaborn.axisgrid.FacetGrid at 0x1701cfde3c0>"
      ]
     },
     "execution_count": 21,
     "metadata": {},
     "output_type": "execute_result"
    },
    {
     "data": {
      "image/png": "[encoded data removed]",
      "text/plain": [
       "<Figure size 500x500 with 1 Axes>"
      ]
     },
     "metadata": {},
     "output_type": "display_data"
    }
   ],
   "source": [
    "sns.displot(df[\"key\"])"
   ]
  },
  {
   "cell_type": "markdown",
   "id": "5b756215-97d7-412f-b9c4-af62209e20c3",
   "metadata": {},
   "source": [
    "## the fill null with random choice in list of keys keep the distrubistion of the data"
   ]
  },
  {
   "cell_type": "code",
   "execution_count": 23,
   "id": "b68a6375-53c8-49de-8232-d4ff7c0b6e32",
   "metadata": {},
   "outputs": [
    {
     "data": {
      "text/plain": [
       "Artist Name              0\n",
       "Track Name               0\n",
       "Popularity               0\n",
       "danceability             0\n",
       "energy                   0\n",
       "key                      0\n",
       "loudness                 0\n",
       "mode                     0\n",
       "speechiness              0\n",
       "acousticness             0\n",
       "instrumentalness      4262\n",
       "liveness                 0\n",
       "valence                  0\n",
       "tempo                    0\n",
       "duration_in min/ms       0\n",
       "time_signature           0\n",
       "Class                    0\n",
       "dtype: int64"
      ]
     },
     "execution_count": 23,
     "metadata": {},
     "output_type": "execute_result"
    }
   ],
   "source": [
    "df.isnull().sum()"
   ]
  },
  {
   "cell_type": "code",
   "execution_count": 24,
   "id": "21b29691-f645-4d91-b613-06d0a6583933",
   "metadata": {},
   "outputs": [
    {
     "data": {
      "text/plain": [
       "4219"
      ]
     },
     "execution_count": 24,
     "metadata": {},
     "output_type": "execute_result"
    }
   ],
   "source": [
    "df[\"instrumentalness\"].nunique()"
   ]
  },
  {
   "cell_type": "code",
   "execution_count": 25,
   "id": "e4516c9d-a550-4805-8233-087ae769f1e6",
   "metadata": {},
   "outputs": [
    {
     "data": {
      "text/plain": [
       "<seaborn.axisgrid.FacetGrid at 0x1701d0001d0>"
      ]
     },
     "execution_count": 25,
     "metadata": {},
     "output_type": "execute_result"
    },
    {
     "data": {
      "image/png": "[encoded data removed]",
      "text/plain": [
       "<Figure size 500x500 with 1 Axes>"
      ]
     },
     "metadata": {},
     "output_type": "display_data"
    }
   ],
   "source": [
    "sns.displot(df[\"instrumentalness\"])"
   ]
  },
  {
   "cell_type": "code",
   "execution_count": 26,
   "id": "cc1135d9-d79c-40a9-86f0-f0088a2cb627",
   "metadata": {},
   "outputs": [],
   "source": [
    "imputer = KNNImputer(n_neighbors=5)"
   ]
  },
  {
   "cell_type": "code",
   "execution_count": 27,
   "id": "b8eff270-2bb7-4f2a-b91e-f0b13375ab70",
   "metadata": {},
   "outputs": [
    {
     "name": "stderr",
     "output_type": "stream",
     "text": [
      "C:\\Users\\hp\\AppData\\Local\\Temp\\ipykernel_16676\\4260504890.py:10: SettingWithCopyWarning: \n",
      "A value is trying to be set on a copy of a slice from a DataFrame.\n",
      "Try using .loc[row_indexer,col_indexer] = value instead\n",
      "\n",
      "See the caveats in the documentation: https://pandas.pydata.org/pandas-docs/stable/user_guide/indexing.html#returning-a-view-versus-a-copy\n",
      "  df[\"instrumentalness\"] = imputed_data[:, 0]\n"
     ]
    }
   ],
   "source": [
    "numeric_data = df[[\"instrumentalness\"]]\n",
    "\n",
    "\n",
    "imputer = KNNImputer(n_neighbors=5) \n",
    "\n",
    "\n",
    "imputed_data = imputer.fit_transform(numeric_data)\n",
    "\n",
    "\n",
    "df[\"instrumentalness\"] = imputed_data[:, 0] "
   ]
  },
  {
   "cell_type": "code",
   "execution_count": 28,
   "id": "2da8ca3f-e785-4c8d-bf0b-eda545baa4c5",
   "metadata": {},
   "outputs": [
    {
     "data": {
      "text/plain": [
       "<seaborn.axisgrid.FacetGrid at 0x1701d2c26f0>"
      ]
     },
     "execution_count": 28,
     "metadata": {},
     "output_type": "execute_result"
    },
    {
     "data": {
      "image/png": "[encoded data removed]",
      "text/plain": [
       "<Figure size 500x500 with 1 Axes>"
      ]
     },
     "metadata": {},
     "output_type": "display_data"
    }
   ],
   "source": [
    "sns.displot(df[\"instrumentalness\"])"
   ]
  },
  {
   "cell_type": "code",
   "execution_count": 29,
   "id": "2990c914-a2fb-461b-9c48-91b79c70a1c6",
   "metadata": {},
   "outputs": [
    {
     "data": {
      "text/html": [
       "<div>\n",
       "<style scoped>\n",
       "    .dataframe tbody tr th:only-of-type {\n",
       "        vertical-align: middle;\n",
       "    }\n",
       "\n",
       "    .dataframe tbody tr th {\n",
       "        vertical-align: top;\n",
       "    }\n",
       "\n",
       "    .dataframe thead th {\n",
       "        text-align: right;\n",
       "    }\n",
       "</style>\n",
       "<table border=\"1\" class=\"dataframe\">\n",
       "  <thead>\n",
       "    <tr style=\"text-align: right;\">\n",
       "      <th></th>\n",
       "      <th>Artist Name</th>\n",
       "      <th>Track Name</th>\n",
       "      <th>Popularity</th>\n",
       "      <th>danceability</th>\n",
       "      <th>energy</th>\n",
       "      <th>key</th>\n",
       "      <th>loudness</th>\n",
       "      <th>mode</th>\n",
       "      <th>speechiness</th>\n",
       "      <th>acousticness</th>\n",
       "      <th>instrumentalness</th>\n",
       "      <th>liveness</th>\n",
       "      <th>valence</th>\n",
       "      <th>tempo</th>\n",
       "      <th>duration_in min/ms</th>\n",
       "      <th>time_signature</th>\n",
       "      <th>Class</th>\n",
       "    </tr>\n",
       "  </thead>\n",
       "  <tbody>\n",
       "    <tr>\n",
       "      <th>0</th>\n",
       "      <td>Bruno Mars</td>\n",
       "      <td>That's What I Like (feat. Gucci Mane)</td>\n",
       "      <td>60.0</td>\n",
       "      <td>0.854</td>\n",
       "      <td>0.564</td>\n",
       "      <td>1.000000</td>\n",
       "      <td>-4.964</td>\n",
       "      <td>1</td>\n",
       "      <td>0.0485</td>\n",
       "      <td>0.017100</td>\n",
       "      <td>0.177543</td>\n",
       "      <td>0.0849</td>\n",
       "      <td>0.8990</td>\n",
       "      <td>134.071</td>\n",
       "      <td>234596.000000</td>\n",
       "      <td>4</td>\n",
       "      <td>5</td>\n",
       "    </tr>\n",
       "    <tr>\n",
       "      <th>3</th>\n",
       "      <td>Deno</td>\n",
       "      <td>Lingo (feat. J.I &amp; Chunkz)</td>\n",
       "      <td>66.0</td>\n",
       "      <td>0.853</td>\n",
       "      <td>0.597</td>\n",
       "      <td>10.000000</td>\n",
       "      <td>-6.528</td>\n",
       "      <td>0</td>\n",
       "      <td>0.0555</td>\n",
       "      <td>0.021200</td>\n",
       "      <td>0.177543</td>\n",
       "      <td>0.1220</td>\n",
       "      <td>0.5690</td>\n",
       "      <td>107.033</td>\n",
       "      <td>173968.000000</td>\n",
       "      <td>4</td>\n",
       "      <td>5</td>\n",
       "    </tr>\n",
       "    <tr>\n",
       "      <th>9</th>\n",
       "      <td>Dudu Aharon</td>\n",
       "      <td>âÃ¬âÃ¯âÃ¬âÃ¯, âÃ´âÃªâÃºâÃºâÃ...</td>\n",
       "      <td>14.0</td>\n",
       "      <td>0.716</td>\n",
       "      <td>0.885</td>\n",
       "      <td>1.000000</td>\n",
       "      <td>-4.348</td>\n",
       "      <td>0</td>\n",
       "      <td>0.0333</td>\n",
       "      <td>0.061400</td>\n",
       "      <td>0.177543</td>\n",
       "      <td>0.2530</td>\n",
       "      <td>0.8330</td>\n",
       "      <td>128.043</td>\n",
       "      <td>164093.000000</td>\n",
       "      <td>4</td>\n",
       "      <td>9</td>\n",
       "    </tr>\n",
       "    <tr>\n",
       "      <th>11</th>\n",
       "      <td>Arctic Monkeys</td>\n",
       "      <td>The View From The Afternoon</td>\n",
       "      <td>59.0</td>\n",
       "      <td>0.387</td>\n",
       "      <td>0.922</td>\n",
       "      <td>9.000000</td>\n",
       "      <td>-5.192</td>\n",
       "      <td>0</td>\n",
       "      <td>0.0674</td>\n",
       "      <td>0.004870</td>\n",
       "      <td>0.177543</td>\n",
       "      <td>0.1870</td>\n",
       "      <td>0.4170</td>\n",
       "      <td>146.478</td>\n",
       "      <td>222947.000000</td>\n",
       "      <td>4</td>\n",
       "      <td>10</td>\n",
       "    </tr>\n",
       "    <tr>\n",
       "      <th>12</th>\n",
       "      <td>Eyal Golan</td>\n",
       "      <td>âÃâÂ®âÃ¯âÃ«âÃ® âÃªâÃºâÃ´âÃ´</td>\n",
       "      <td>34.0</td>\n",
       "      <td>0.585</td>\n",
       "      <td>0.381</td>\n",
       "      <td>1.000000</td>\n",
       "      <td>-7.622</td>\n",
       "      <td>0</td>\n",
       "      <td>0.0463</td>\n",
       "      <td>0.435000</td>\n",
       "      <td>0.177543</td>\n",
       "      <td>0.1260</td>\n",
       "      <td>0.3220</td>\n",
       "      <td>143.876</td>\n",
       "      <td>206875.000000</td>\n",
       "      <td>4</td>\n",
       "      <td>9</td>\n",
       "    </tr>\n",
       "    <tr>\n",
       "      <th>...</th>\n",
       "      <td>...</td>\n",
       "      <td>...</td>\n",
       "      <td>...</td>\n",
       "      <td>...</td>\n",
       "      <td>...</td>\n",
       "      <td>...</td>\n",
       "      <td>...</td>\n",
       "      <td>...</td>\n",
       "      <td>...</td>\n",
       "      <td>...</td>\n",
       "      <td>...</td>\n",
       "      <td>...</td>\n",
       "      <td>...</td>\n",
       "      <td>...</td>\n",
       "      <td>...</td>\n",
       "      <td>...</td>\n",
       "      <td>...</td>\n",
       "    </tr>\n",
       "    <tr>\n",
       "      <th>17974</th>\n",
       "      <td>Seventeen Again (feat. Novo Amor)</td>\n",
       "      <td>Charli Adams, Novo Amor</td>\n",
       "      <td>48.0</td>\n",
       "      <td>0.338</td>\n",
       "      <td>0.282</td>\n",
       "      <td>3.000000</td>\n",
       "      <td>-10.902</td>\n",
       "      <td>1</td>\n",
       "      <td>0.0293</td>\n",
       "      <td>0.640000</td>\n",
       "      <td>0.177543</td>\n",
       "      <td>0.1110</td>\n",
       "      <td>0.0952</td>\n",
       "      <td>141.468</td>\n",
       "      <td>3.408667</td>\n",
       "      <td>3</td>\n",
       "      <td>0</td>\n",
       "    </tr>\n",
       "    <tr>\n",
       "      <th>17978</th>\n",
       "      <td>Lil Durk</td>\n",
       "      <td>Love You Too (feat. Kehlani)</td>\n",
       "      <td>55.0</td>\n",
       "      <td>0.384</td>\n",
       "      <td>0.820</td>\n",
       "      <td>5.000000</td>\n",
       "      <td>-3.928</td>\n",
       "      <td>0</td>\n",
       "      <td>0.2010</td>\n",
       "      <td>0.397000</td>\n",
       "      <td>0.177543</td>\n",
       "      <td>0.1140</td>\n",
       "      <td>0.4410</td>\n",
       "      <td>90.712</td>\n",
       "      <td>178605.000000</td>\n",
       "      <td>4</td>\n",
       "      <td>5</td>\n",
       "    </tr>\n",
       "    <tr>\n",
       "      <th>17985</th>\n",
       "      <td>Hippie Hourrah</td>\n",
       "      <td>La guerre</td>\n",
       "      <td>2.0</td>\n",
       "      <td>0.610</td>\n",
       "      <td>0.766</td>\n",
       "      <td>5.957407</td>\n",
       "      <td>-8.266</td>\n",
       "      <td>1</td>\n",
       "      <td>0.0267</td>\n",
       "      <td>0.000559</td>\n",
       "      <td>0.174000</td>\n",
       "      <td>0.0887</td>\n",
       "      <td>0.9320</td>\n",
       "      <td>118.013</td>\n",
       "      <td>271467.000000</td>\n",
       "      <td>4</td>\n",
       "      <td>6</td>\n",
       "    </tr>\n",
       "    <tr>\n",
       "      <th>17986</th>\n",
       "      <td>John Mayer</td>\n",
       "      <td>Free Fallin' - Live at the Nokia Theatre, Los ...</td>\n",
       "      <td>71.0</td>\n",
       "      <td>0.315</td>\n",
       "      <td>0.296</td>\n",
       "      <td>5.000000</td>\n",
       "      <td>-13.262</td>\n",
       "      <td>1</td>\n",
       "      <td>0.0315</td>\n",
       "      <td>0.771000</td>\n",
       "      <td>0.177543</td>\n",
       "      <td>0.7020</td>\n",
       "      <td>0.4350</td>\n",
       "      <td>173.509</td>\n",
       "      <td>4.392883</td>\n",
       "      <td>4</td>\n",
       "      <td>0</td>\n",
       "    </tr>\n",
       "    <tr>\n",
       "      <th>17987</th>\n",
       "      <td>Jilted John</td>\n",
       "      <td>Jilted John - Single Version</td>\n",
       "      <td>42.0</td>\n",
       "      <td>0.351</td>\n",
       "      <td>0.883</td>\n",
       "      <td>5.957407</td>\n",
       "      <td>-6.952</td>\n",
       "      <td>1</td>\n",
       "      <td>0.0562</td>\n",
       "      <td>0.036300</td>\n",
       "      <td>0.177543</td>\n",
       "      <td>0.4990</td>\n",
       "      <td>0.8800</td>\n",
       "      <td>195.666</td>\n",
       "      <td>175400.000000</td>\n",
       "      <td>4</td>\n",
       "      <td>1</td>\n",
       "    </tr>\n",
       "  </tbody>\n",
       "</table>\n",
       "<p>4511 rows × 17 columns</p>\n",
       "</div>"
      ],
      "text/plain": [
       "                             Artist Name  \\\n",
       "0                             Bruno Mars   \n",
       "3                                   Deno   \n",
       "9                            Dudu Aharon   \n",
       "11                        Arctic Monkeys   \n",
       "12                            Eyal Golan   \n",
       "...                                  ...   \n",
       "17974  Seventeen Again (feat. Novo Amor)   \n",
       "17978                           Lil Durk   \n",
       "17985                     Hippie Hourrah   \n",
       "17986                         John Mayer   \n",
       "17987                        Jilted John   \n",
       "\n",
       "                                              Track Name  Popularity  \\\n",
       "0                  That's What I Like (feat. Gucci Mane)        60.0   \n",
       "3                             Lingo (feat. J.I & Chunkz)        66.0   \n",
       "9      âÃ¬âÃ¯âÃ¬âÃ¯, âÃ´âÃªâÃºâÃºâÃ...        14.0   \n",
       "11                           The View From The Afternoon        59.0   \n",
       "12        âÃâÂ®âÃ¯âÃ«âÃ® âÃªâÃºâÃ´âÃ´        34.0   \n",
       "...                                                  ...         ...   \n",
       "17974                            Charli Adams, Novo Amor        48.0   \n",
       "17978                       Love You Too (feat. Kehlani)        55.0   \n",
       "17985                                          La guerre         2.0   \n",
       "17986  Free Fallin' - Live at the Nokia Theatre, Los ...        71.0   \n",
       "17987                       Jilted John - Single Version        42.0   \n",
       "\n",
       "       danceability  energy        key  loudness  mode  speechiness  \\\n",
       "0             0.854   0.564   1.000000    -4.964     1       0.0485   \n",
       "3             0.853   0.597  10.000000    -6.528     0       0.0555   \n",
       "9             0.716   0.885   1.000000    -4.348     0       0.0333   \n",
       "11            0.387   0.922   9.000000    -5.192     0       0.0674   \n",
       "12            0.585   0.381   1.000000    -7.622     0       0.0463   \n",
       "...             ...     ...        ...       ...   ...          ...   \n",
       "17974         0.338   0.282   3.000000   -10.902     1       0.0293   \n",
       "17978         0.384   0.820   5.000000    -3.928     0       0.2010   \n",
       "17985         0.610   0.766   5.957407    -8.266     1       0.0267   \n",
       "17986         0.315   0.296   5.000000   -13.262     1       0.0315   \n",
       "17987         0.351   0.883   5.957407    -6.952     1       0.0562   \n",
       "\n",
       "       acousticness  instrumentalness  liveness  valence    tempo  \\\n",
       "0          0.017100          0.177543    0.0849   0.8990  134.071   \n",
       "3          0.021200          0.177543    0.1220   0.5690  107.033   \n",
       "9          0.061400          0.177543    0.2530   0.8330  128.043   \n",
       "11         0.004870          0.177543    0.1870   0.4170  146.478   \n",
       "12         0.435000          0.177543    0.1260   0.3220  143.876   \n",
       "...             ...               ...       ...      ...      ...   \n",
       "17974      0.640000          0.177543    0.1110   0.0952  141.468   \n",
       "17978      0.397000          0.177543    0.1140   0.4410   90.712   \n",
       "17985      0.000559          0.174000    0.0887   0.9320  118.013   \n",
       "17986      0.771000          0.177543    0.7020   0.4350  173.509   \n",
       "17987      0.036300          0.177543    0.4990   0.8800  195.666   \n",
       "\n",
       "       duration_in min/ms  time_signature  Class  \n",
       "0           234596.000000               4      5  \n",
       "3           173968.000000               4      5  \n",
       "9           164093.000000               4      9  \n",
       "11          222947.000000               4     10  \n",
       "12          206875.000000               4      9  \n",
       "...                   ...             ...    ...  \n",
       "17974            3.408667               3      0  \n",
       "17978       178605.000000               4      5  \n",
       "17985       271467.000000               4      6  \n",
       "17986            4.392883               4      0  \n",
       "17987       175400.000000               4      1  \n",
       "\n",
       "[4511 rows x 17 columns]"
      ]
     },
     "execution_count": 29,
     "metadata": {},
     "output_type": "execute_result"
    }
   ],
   "source": [
    "df[(df[\"instrumentalness\"] < 0.2) & (df[\"instrumentalness\"] > 0.15)]"
   ]
  },
  {
   "cell_type": "markdown",
   "id": "b762fe7f-5063-446e-9546-acb10b1eb1f5",
   "metadata": {},
   "source": [
    "## althought the knn change the distrubution of the data but it is more reiliable bescuase the songs that have close speechiness and livness and valence it have big percantage that have the number of instrumentalness"
   ]
  },
  {
   "cell_type": "code",
   "execution_count": 31,
   "id": "ce828707-5483-4129-a1a7-8f20710031ae",
   "metadata": {},
   "outputs": [
    {
     "data": {
      "text/plain": [
       "Artist Name           0\n",
       "Track Name            0\n",
       "Popularity            0\n",
       "danceability          0\n",
       "energy                0\n",
       "key                   0\n",
       "loudness              0\n",
       "mode                  0\n",
       "speechiness           0\n",
       "acousticness          0\n",
       "instrumentalness      0\n",
       "liveness              0\n",
       "valence               0\n",
       "tempo                 0\n",
       "duration_in min/ms    0\n",
       "time_signature        0\n",
       "Class                 0\n",
       "dtype: int64"
      ]
     },
     "execution_count": 31,
     "metadata": {},
     "output_type": "execute_result"
    }
   ],
   "source": [
    "df.isnull().sum()"
   ]
  },
  {
   "cell_type": "code",
   "execution_count": 32,
   "id": "198cdbea-c54b-4c44-9c5c-92eedc2d8f4e",
   "metadata": {},
   "outputs": [
    {
     "data": {
      "text/plain": [
       "(17568, 17)"
      ]
     },
     "execution_count": 32,
     "metadata": {},
     "output_type": "execute_result"
    }
   ],
   "source": [
    "df.shape"
   ]
  },
  {
   "cell_type": "code",
   "execution_count": 33,
   "id": "852befef-2085-4e34-98e2-417ffca898f8",
   "metadata": {},
   "outputs": [
    {
     "data": {
      "text/plain": [
       "0"
      ]
     },
     "execution_count": 33,
     "metadata": {},
     "output_type": "execute_result"
    }
   ],
   "source": [
    "df.duplicated().sum()"
   ]
  },
  {
   "cell_type": "markdown",
   "id": "54fe983d-6da9-4acd-8ada-88b992f0344c",
   "metadata": {},
   "source": [
    "## There are no duplicates. I think this is because if any songs had the same features as another, it would be considered stealing."
   ]
  },
  {
   "cell_type": "code",
   "execution_count": 35,
   "id": "24950ba3-e38f-4113-8be3-7407aa105974",
   "metadata": {},
   "outputs": [
    {
     "data": {
      "text/plain": [
       "<Axes: xlabel='Class'>"
      ]
     },
     "execution_count": 35,
     "metadata": {},
     "output_type": "execute_result"
    },
    {
     "data": {
      "image/png": "[encoded data removed]",
      "text/plain": [
       "<Figure size 640x480 with 1 Axes>"
      ]
     },
     "metadata": {},
     "output_type": "display_data"
    }
   ],
   "source": [
    "df[\"Class\"].value_counts().plot(kind=\"bar\")"
   ]
  },
  {
   "cell_type": "code",
   "execution_count": 36,
   "id": "f35719cc-5902-4622-95bf-cb5f39a384a0",
   "metadata": {},
   "outputs": [
    {
     "data": {
      "text/plain": [
       "Index(['Artist Name', 'Track Name', 'Popularity', 'danceability', 'energy',\n",
       "       'key', 'loudness', 'mode', 'speechiness', 'acousticness',\n",
       "       'instrumentalness', 'liveness', 'valence', 'tempo',\n",
       "       'duration_in min/ms', 'time_signature', 'Class'],\n",
       "      dtype='object')"
      ]
     },
     "execution_count": 36,
     "metadata": {},
     "output_type": "execute_result"
    }
   ],
   "source": [
    "df.columns"
   ]
  },
  {
   "cell_type": "code",
   "execution_count": 37,
   "id": "b0b44531-90d1-406c-8ff2-8298734383ee",
   "metadata": {},
   "outputs": [
    {
     "data": {
      "image/png": "[encoded data removed]",
      "text/plain": [
       "<Figure size 1200x1500 with 20 Axes>"
      ]
     },
     "metadata": {},
     "output_type": "display_data"
    }
   ],
   "source": [
    "df.plot(kind=\"box\",subplots=True,figsize=(12,15),layout=(4,5))\n",
    "plt.show()"
   ]
  },
  {
   "cell_type": "markdown",
   "id": "7e91af45-e980-4101-8d60-71a6ae44621b",
   "metadata": {},
   "source": [
    "## i will romeve the outlaires in speechiness but don't worry it will not romve some important data can effect on model because there is another columns it effect with speechnes like instrumentalness"
   ]
  },
  {
   "cell_type": "code",
   "execution_count": 39,
   "id": "b0605dbe-060c-4234-90fd-808776edfe3a",
   "metadata": {},
   "outputs": [
    {
     "data": {
      "text/plain": [
       "Text(0, 0.5, 'Class')"
      ]
     },
     "execution_count": 39,
     "metadata": {},
     "output_type": "execute_result"
    },
    {
     "data": {
      "image/png": "[encoded data removed]",
      "text/plain": [
       "<Figure size 640x480 with 1 Axes>"
      ]
     },
     "metadata": {},
     "output_type": "display_data"
    }
   ],
   "source": [
    "plt.scatter(df[\"speechiness\"],df[\"Class\"])\n",
    "plt.xlabel(\"speechiness\")\n",
    "plt.ylabel(\"Class\")"
   ]
  },
  {
   "cell_type": "code",
   "execution_count": 40,
   "id": "fe320e13-f38c-4aec-ad29-e1514e185ca1",
   "metadata": {},
   "outputs": [],
   "source": [
    "df=df[df[\"speechiness\"]<0.7]"
   ]
  },
  {
   "cell_type": "code",
   "execution_count": 41,
   "id": "48589cf6-f15b-4d04-b015-3b2ad4c1e626",
   "metadata": {},
   "outputs": [
    {
     "data": {
      "text/plain": [
       "Text(0, 0.5, 'Class')"
      ]
     },
     "execution_count": 41,
     "metadata": {},
     "output_type": "execute_result"
    },
    {
     "data": {
      "image/png": "[encoded data removed]",
      "text/plain": [
       "<Figure size 640x480 with 1 Axes>"
      ]
     },
     "metadata": {},
     "output_type": "display_data"
    }
   ],
   "source": [
    "plt.scatter(df[\"speechiness\"],df[\"Class\"])\n",
    "plt.xlabel(\"speechiness\")\n",
    "plt.ylabel(\"Class\")"
   ]
  },
  {
   "cell_type": "code",
   "execution_count": 42,
   "id": "1329d398-378d-4476-b229-34bbde7fca33",
   "metadata": {},
   "outputs": [
    {
     "data": {
      "text/plain": [
       "Text(0, 0.5, 'Class')"
      ]
     },
     "execution_count": 42,
     "metadata": {},
     "output_type": "execute_result"
    },
    {
     "data": {
      "image/png": "[encoded data removed]",
      "text/plain": [
       "<Figure size 640x480 with 1 Axes>"
      ]
     },
     "metadata": {},
     "output_type": "display_data"
    }
   ],
   "source": [
    "plt.scatter(df[\"duration_in min/ms\"],df[\"Class\"])\n",
    "plt.xlabel(\"duration_in min/ms\")\n",
    "plt.ylabel(\"Class\")"
   ]
  },
  {
   "cell_type": "code",
   "execution_count": 43,
   "id": "b60ec614-b018-4af9-8ef8-a88add603269",
   "metadata": {},
   "outputs": [],
   "source": [
    "df = df[df['duration_in min/ms'] <1000000]"
   ]
  },
  {
   "cell_type": "code",
   "execution_count": 44,
   "id": "2902b1a5-1c6e-4b3b-a39b-7adc35cc764b",
   "metadata": {},
   "outputs": [
    {
     "data": {
      "text/plain": [
       "Text(0, 0.5, 'Class')"
      ]
     },
     "execution_count": 44,
     "metadata": {},
     "output_type": "execute_result"
    },
    {
     "data": {
      "image/png": "[encoded data removed]",
      "text/plain": [
       "<Figure size 640x480 with 1 Axes>"
      ]
     },
     "metadata": {},
     "output_type": "display_data"
    }
   ],
   "source": [
    "plt.scatter(df['duration_in min/ms'] , df['Class'])\n",
    "plt.xlabel(\"duration_in min/ms\")\n",
    "plt.ylabel(\"Class\")"
   ]
  },
  {
   "cell_type": "code",
   "execution_count": 45,
   "id": "7ff07864-1fbf-4b06-8e4b-276c549a2c40",
   "metadata": {},
   "outputs": [
    {
     "data": {
      "text/plain": [
       "<Axes: xlabel='Class'>"
      ]
     },
     "execution_count": 45,
     "metadata": {},
     "output_type": "execute_result"
    },
    {
     "data": {
      "image/png": "[encoded data removed]",
      "text/plain": [
       "<Figure size 640x480 with 1 Axes>"
      ]
     },
     "metadata": {},
     "output_type": "display_data"
    }
   ],
   "source": [
    "df['Class'].value_counts().plot(kind=\"bar\")"
   ]
  },
  {
   "cell_type": "code",
   "execution_count": 46,
   "id": "52c4b8be-2ca7-4e54-8ac0-f85c8142be92",
   "metadata": {},
   "outputs": [],
   "source": [
    "df.drop(\"Track Name\",inplace=True,axis=1)\n",
    "df.drop(\"Artist Name\",inplace=True,axis=1)\n"
   ]
  },
  {
   "cell_type": "code",
   "execution_count": 47,
   "id": "13c6bd68-0a17-43ed-9b7a-3e84066c55ad",
   "metadata": {},
   "outputs": [],
   "source": [
    "X = df.drop('Class', axis=1)\n",
    "y = df['Class']"
   ]
  },
  {
   "cell_type": "code",
   "execution_count": 48,
   "id": "ac5b860a-78b8-43db-98f7-a019760918f9",
   "metadata": {},
   "outputs": [],
   "source": [
    "from imblearn.combine import SMOTETomek\n",
    "from imblearn.under_sampling import TomekLinks"
   ]
  },
  {
   "cell_type": "code",
   "execution_count": 49,
   "id": "c0e96652-0acf-436c-aa74-a7b20992e143",
   "metadata": {},
   "outputs": [],
   "source": [
    "resample=SMOTETomek(tomek=TomekLinks(sampling_strategy='majority'))\n",
    "X, y = resample.fit_resample(X, y)"
   ]
  },
  {
   "cell_type": "code",
   "execution_count": 50,
   "id": "d180e2cf-28e3-4eee-9bc0-e50d096c3cd4",
   "metadata": {},
   "outputs": [
    {
     "data": {
      "text/plain": [
       "<Axes: xlabel='Class'>"
      ]
     },
     "execution_count": 50,
     "metadata": {},
     "output_type": "execute_result"
    },
    {
     "data": {
      "image/png": "[encoded data removed]",
      "text/plain": [
       "<Figure size 640x480 with 1 Axes>"
      ]
     },
     "metadata": {},
     "output_type": "display_data"
    }
   ],
   "source": [
    "y.value_counts().plot(kind=\"bar\")"
   ]
  },
  {
   "cell_type": "code",
   "execution_count": 51,
   "id": "4cbdc04a-edff-40b6-8aa1-7b3d2f1646ea",
   "metadata": {},
   "outputs": [],
   "source": [
    "X_train, X_test, y_train, y_test_non = train_test_split(X,y, test_size=0.2, random_state=42)"
   ]
  },
  {
   "cell_type": "code",
   "execution_count": 52,
   "id": "173d5e66-f5b8-4be5-8770-1e7f40045b50",
   "metadata": {},
   "outputs": [
    {
     "name": "stdout",
     "output_type": "stream",
     "text": [
      "Accuracy: 0.77\n",
      "Classification Report:\n",
      "              precision    recall  f1-score   support\n",
      "\n",
      "           0       0.96      0.98      0.97       966\n",
      "           1       0.56      0.57      0.56       947\n",
      "           2       0.72      0.85      0.78       966\n",
      "           3       0.99      0.99      0.99      1002\n",
      "           4       0.95      0.98      0.96       946\n",
      "           5       0.80      0.88      0.84       964\n",
      "           6       0.49      0.38      0.43       946\n",
      "           7       1.00      0.99      1.00       990\n",
      "           8       0.75      0.83      0.79       977\n",
      "           9       0.66      0.62      0.64       989\n",
      "          10       0.46      0.38      0.42       970\n",
      "\n",
      "    accuracy                           0.77     10663\n",
      "   macro avg       0.76      0.77      0.76     10663\n",
      "weighted avg       0.76      0.77      0.76     10663\n",
      "\n"
     ]
    }
   ],
   "source": [
    "rf_clf = RandomForestClassifier(n_estimators=100, random_state=42)\n",
    "\n",
    "rf_clf.fit(X_train, y_train)\n",
    "\n",
    "y_pred_non = rf_clf.predict(X_test)\n",
    "\n",
    "accuracy = accuracy_score(y_test_non, y_pred_non)\n",
    "report = classification_report(y_test_non, y_pred_non)\n",
    "\n",
    "print(f\"Accuracy: {accuracy:.2f}\")\n",
    "print(\"Classification Report:\")\n",
    "print(report)"
   ]
  },
  {
   "cell_type": "code",
   "execution_count": 94,
   "id": "43669306-36e5-4409-a2ff-0df24cef4dfe",
   "metadata": {},
   "outputs": [
    {
     "data": {
      "text/html": [
       "<div>\n",
       "<style scoped>\n",
       "    .dataframe tbody tr th:only-of-type {\n",
       "        vertical-align: middle;\n",
       "    }\n",
       "\n",
       "    .dataframe tbody tr th {\n",
       "        vertical-align: top;\n",
       "    }\n",
       "\n",
       "    .dataframe thead th {\n",
       "        text-align: right;\n",
       "    }\n",
       "</style>\n",
       "<table border=\"1\" class=\"dataframe\">\n",
       "  <thead>\n",
       "    <tr style=\"text-align: right;\">\n",
       "      <th></th>\n",
       "      <th>Track Name</th>\n",
       "      <th>Artist Name</th>\n",
       "      <th>Class</th>\n",
       "    </tr>\n",
       "  </thead>\n",
       "  <tbody>\n",
       "    <tr>\n",
       "      <th>0</th>\n",
       "      <td>That's What I Like (feat. Gucci Mane)</td>\n",
       "      <td>Bruno Mars</td>\n",
       "      <td>5</td>\n",
       "    </tr>\n",
       "    <tr>\n",
       "      <th>1</th>\n",
       "      <td>Hitch a Ride</td>\n",
       "      <td>Boston</td>\n",
       "      <td>10</td>\n",
       "    </tr>\n",
       "    <tr>\n",
       "      <th>2</th>\n",
       "      <td>No Side to Fall In</td>\n",
       "      <td>The Raincoats</td>\n",
       "      <td>6</td>\n",
       "    </tr>\n",
       "    <tr>\n",
       "      <th>3</th>\n",
       "      <td>Lingo (feat. J.I &amp; Chunkz)</td>\n",
       "      <td>Deno</td>\n",
       "      <td>5</td>\n",
       "    </tr>\n",
       "    <tr>\n",
       "      <th>4</th>\n",
       "      <td>Nobody Weird Like Me - Remastered</td>\n",
       "      <td>Red Hot Chili Peppers</td>\n",
       "      <td>10</td>\n",
       "    </tr>\n",
       "    <tr>\n",
       "      <th>...</th>\n",
       "      <td>...</td>\n",
       "      <td>...</td>\n",
       "      <td>...</td>\n",
       "    </tr>\n",
       "    <tr>\n",
       "      <th>17991</th>\n",
       "      <td>Find Home</td>\n",
       "      <td>Green-House</td>\n",
       "      <td>6</td>\n",
       "    </tr>\n",
       "    <tr>\n",
       "      <th>17992</th>\n",
       "      <td>All Gone</td>\n",
       "      <td>Micatone</td>\n",
       "      <td>2</td>\n",
       "    </tr>\n",
       "    <tr>\n",
       "      <th>17993</th>\n",
       "      <td>Peine perdue</td>\n",
       "      <td>Smash Hit Combo</td>\n",
       "      <td>8</td>\n",
       "    </tr>\n",
       "    <tr>\n",
       "      <th>17994</th>\n",
       "      <td>Salomon's Gate</td>\n",
       "      <td>Beherit</td>\n",
       "      <td>8</td>\n",
       "    </tr>\n",
       "    <tr>\n",
       "      <th>17995</th>\n",
       "      <td>Broken Boy Soldier</td>\n",
       "      <td>The Raconteurs</td>\n",
       "      <td>10</td>\n",
       "    </tr>\n",
       "  </tbody>\n",
       "</table>\n",
       "<p>17996 rows × 3 columns</p>\n",
       "</div>"
      ],
      "text/plain": [
       "                                  Track Name            Artist Name  Class\n",
       "0      That's What I Like (feat. Gucci Mane)             Bruno Mars      5\n",
       "1                               Hitch a Ride                 Boston     10\n",
       "2                         No Side to Fall In          The Raincoats      6\n",
       "3                 Lingo (feat. J.I & Chunkz)                   Deno      5\n",
       "4          Nobody Weird Like Me - Remastered  Red Hot Chili Peppers     10\n",
       "...                                      ...                    ...    ...\n",
       "17991                              Find Home            Green-House      6\n",
       "17992                               All Gone               Micatone      2\n",
       "17993                           Peine perdue        Smash Hit Combo      8\n",
       "17994                         Salomon's Gate                Beherit      8\n",
       "17995                     Broken Boy Soldier         The Raconteurs     10\n",
       "\n",
       "[17996 rows x 3 columns]"
      ]
     },
     "execution_count": 94,
     "metadata": {},
     "output_type": "execute_result"
    }
   ],
   "source": [
    "\n",
    "data=pd.read_csv(\"Desktop/Data/train.csv\",sep=\",\",encoding=\"latin1\")[[\"Track Name\",\"Artist Name\",\"Class\"]]\n",
    "\n",
    "data\n"
   ]
  },
  {
   "cell_type": "code",
   "execution_count": 96,
   "id": "02379bec-2988-499d-9754-3d52d5a47151",
   "metadata": {},
   "outputs": [
    {
     "data": {
      "text/plain": [
       "<Axes: xlabel='Class'>"
      ]
     },
     "execution_count": 96,
     "metadata": {},
     "output_type": "execute_result"
    },
    {
     "data": {
      "image/png": "[encoded data removed]",
      "text/plain": [
       "<Figure size 640x480 with 1 Axes>"
      ]
     },
     "metadata": {},
     "output_type": "display_data"
    }
   ],
   "source": [
    "data[\"Class\"].value_counts().plot(kind=\"bar\")"
   ]
  },
  {
   "cell_type": "code",
   "execution_count": 134,
   "id": "e8356e72-4e69-4e95-9533-fea3ddcf34a2",
   "metadata": {},
   "outputs": [],
   "source": [
    "multiNB=MultinomialNB()\n",
    "logi = LogisticRegression(penalty='l2', solver='liblinear')\n",
    "\n",
    "stacked_model=StackingClassifier(\n",
    "    estimators=[('multinmialNb', multiNB), ('logiistic', logi)],\n",
    "    final_estimator=RidgeClassifier() \n",
    ")\n"
   ]
  },
  {
   "cell_type": "code",
   "execution_count": 126,
   "id": "1d1a617f-8667-475d-9b52-7afd16816269",
   "metadata": {},
   "outputs": [],
   "source": [
    "features = ['Track Name','Artist Name']\n",
    "X = data[features] \n",
    "y = data[\"Class\"]  \n",
    "\n",
    "x_train, x_test, y_train, y_test = train_test_split(X, y, test_size=0.2,random_state=42, stratify=y)\n",
    "\n",
    "\n",
    "vectorizer_artist = TfidfVectorizer()\n",
    "vectorizer_track = TfidfVectorizer()\n",
    "\n",
    "\n",
    "x_train_artist = vectorizer_artist.fit_transform(x_train[\"Artist Name\"])\n",
    "x_test_artist = vectorizer_artist.transform(x_test[\"Artist Name\"])\n",
    "\n",
    "x_train_track = vectorizer_track.fit_transform(x_train[\"Track Name\"])\n",
    "x_test_track = vectorizer_track.transform(x_test[\"Track Name\"])\n",
    "\n",
    "\n",
    "x_train_combined = hstack([x_train_artist, x_train_track])\n",
    "x_test_combined = hstack([x_test_artist, x_test_track])\n"
   ]
  },
  {
   "cell_type": "code",
   "execution_count": 128,
   "id": "ece07dbb-d969-4127-89ab-c234d2bf7837",
   "metadata": {},
   "outputs": [],
   "source": [
    "x_train_dense = x_train_combined.toarray()\n",
    "x_test_dense = x_test_combined.toarray()"
   ]
  },
  {
   "cell_type": "code",
   "execution_count": 130,
   "id": "23ebc1e2-cebe-429e-814a-c308ff815db0",
   "metadata": {},
   "outputs": [],
   "source": [
    "tomk=TomekLinks()\n",
    "x_train_res,y_train_res=tomk.fit_resample(x_train_dense,y_train)"
   ]
  },
  {
   "cell_type": "code",
   "execution_count": 136,
   "id": "69601686-8532-44bb-a0d4-790bb892f989",
   "metadata": {},
   "outputs": [
    {
     "data": {
      "text/html": [
       "<style>#sk-container-id-2 {\n",
       "  /* Definition of color scheme common for light and dark mode */\n",
       "  --sklearn-color-text: black;\n",
       "  --sklearn-color-line: gray;\n",
       "  /* Definition of color scheme for unfitted estimators */\n",
       "  --sklearn-color-unfitted-level-0: #fff5e6;\n",
       "  --sklearn-color-unfitted-level-1: #f6e4d2;\n",
       "  --sklearn-color-unfitted-level-2: #ffe0b3;\n",
       "  --sklearn-color-unfitted-level-3: chocolate;\n",
       "  /* Definition of color scheme for fitted estimators */\n",
       "  --sklearn-color-fitted-level-0: #f0f8ff;\n",
       "  --sklearn-color-fitted-level-1: #d4ebff;\n",
       "  --sklearn-color-fitted-level-2: #b3dbfd;\n",
       "  --sklearn-color-fitted-level-3: cornflowerblue;\n",
       "\n",
       "  /* Specific color for light theme */\n",
       "  --sklearn-color-text-on-default-background: var(--sg-text-color, var(--theme-code-foreground, var(--jp-content-font-color1, black)));\n",
       "  --sklearn-color-background: var(--sg-background-color, var(--theme-background, var(--jp-layout-color0, white)));\n",
       "  --sklearn-color-border-box: var(--sg-text-color, var(--theme-code-foreground, var(--jp-content-font-color1, black)));\n",
       "  --sklearn-color-icon: #696969;\n",
       "\n",
       "  @media (prefers-color-scheme: dark) {\n",
       "    /* Redefinition of color scheme for dark theme */\n",
       "    --sklearn-color-text-on-default-background: var(--sg-text-color, var(--theme-code-foreground, var(--jp-content-font-color1, white)));\n",
       "    --sklearn-color-background: var(--sg-background-color, var(--theme-background, var(--jp-layout-color0, #111)));\n",
       "    --sklearn-color-border-box: var(--sg-text-color, var(--theme-code-foreground, var(--jp-content-font-color1, white)));\n",
       "    --sklearn-color-icon: #878787;\n",
       "  }\n",
       "}\n",
       "\n",
       "#sk-container-id-2 {\n",
       "  color: var(--sklearn-color-text);\n",
       "}\n",
       "\n",
       "#sk-container-id-2 pre {\n",
       "  padding: 0;\n",
       "}\n",
       "\n",
       "#sk-container-id-2 input.sk-hidden--visually {\n",
       "  border: 0;\n",
       "  clip: rect(1px 1px 1px 1px);\n",
       "  clip: rect(1px, 1px, 1px, 1px);\n",
       "  height: 1px;\n",
       "  margin: -1px;\n",
       "  overflow: hidden;\n",
       "  padding: 0;\n",
       "  position: absolute;\n",
       "  width: 1px;\n",
       "}\n",
       "\n",
       "#sk-container-id-2 div.sk-dashed-wrapped {\n",
       "  border: 1px dashed var(--sklearn-color-line);\n",
       "  margin: 0 0.4em 0.5em 0.4em;\n",
       "  box-sizing: border-box;\n",
       "  padding-bottom: 0.4em;\n",
       "  background-color: var(--sklearn-color-background);\n",
       "}\n",
       "\n",
       "#sk-container-id-2 div.sk-container {\n",
       "  /* jupyter's `normalize.less` sets `[hidden] { display: none; }`\n",
       "     but bootstrap.min.css set `[hidden] { display: none !important; }`\n",
       "     so we also need the `!important` here to be able to override the\n",
       "     default hidden behavior on the sphinx rendered scikit-learn.org.\n",
       "     See: https://github.com/scikit-learn/scikit-learn/issues/21755 */\n",
       "  display: inline-block !important;\n",
       "  position: relative;\n",
       "}\n",
       "\n",
       "#sk-container-id-2 div.sk-text-repr-fallback {\n",
       "  display: none;\n",
       "}\n",
       "\n",
       "div.sk-parallel-item,\n",
       "div.sk-serial,\n",
       "div.sk-item {\n",
       "  /* draw centered vertical line to link estimators */\n",
       "  background-image: linear-gradient(var(--sklearn-color-text-on-default-background), var(--sklearn-color-text-on-default-background));\n",
       "  background-size: 2px 100%;\n",
       "  background-repeat: no-repeat;\n",
       "  background-position: center center;\n",
       "}\n",
       "\n",
       "/* Parallel-specific style estimator block */\n",
       "\n",
       "#sk-container-id-2 div.sk-parallel-item::after {\n",
       "  content: \"\";\n",
       "  width: 100%;\n",
       "  border-bottom: 2px solid var(--sklearn-color-text-on-default-background);\n",
       "  flex-grow: 1;\n",
       "}\n",
       "\n",
       "#sk-container-id-2 div.sk-parallel {\n",
       "  display: flex;\n",
       "  align-items: stretch;\n",
       "  justify-content: center;\n",
       "  background-color: var(--sklearn-color-background);\n",
       "  position: relative;\n",
       "}\n",
       "\n",
       "#sk-container-id-2 div.sk-parallel-item {\n",
       "  display: flex;\n",
       "  flex-direction: column;\n",
       "}\n",
       "\n",
       "#sk-container-id-2 div.sk-parallel-item:first-child::after {\n",
       "  align-self: flex-end;\n",
       "  width: 50%;\n",
       "}\n",
       "\n",
       "#sk-container-id-2 div.sk-parallel-item:last-child::after {\n",
       "  align-self: flex-start;\n",
       "  width: 50%;\n",
       "}\n",
       "\n",
       "#sk-container-id-2 div.sk-parallel-item:only-child::after {\n",
       "  width: 0;\n",
       "}\n",
       "\n",
       "/* Serial-specific style estimator block */\n",
       "\n",
       "#sk-container-id-2 div.sk-serial {\n",
       "  display: flex;\n",
       "  flex-direction: column;\n",
       "  align-items: center;\n",
       "  background-color: var(--sklearn-color-background);\n",
       "  padding-right: 1em;\n",
       "  padding-left: 1em;\n",
       "}\n",
       "\n",
       "\n",
       "/* Toggleable style: style used for estimator/Pipeline/ColumnTransformer box that is\n",
       "clickable and can be expanded/collapsed.\n",
       "- Pipeline and ColumnTransformer use this feature and define the default style\n",
       "- Estimators will overwrite some part of the style using the `sk-estimator` class\n",
       "*/\n",
       "\n",
       "/* Pipeline and ColumnTransformer style (default) */\n",
       "\n",
       "#sk-container-id-2 div.sk-toggleable {\n",
       "  /* Default theme specific background. It is overwritten whether we have a\n",
       "  specific estimator or a Pipeline/ColumnTransformer */\n",
       "  background-color: var(--sklearn-color-background);\n",
       "}\n",
       "\n",
       "/* Toggleable label */\n",
       "#sk-container-id-2 label.sk-toggleable__label {\n",
       "  cursor: pointer;\n",
       "  display: block;\n",
       "  width: 100%;\n",
       "  margin-bottom: 0;\n",
       "  padding: 0.5em;\n",
       "  box-sizing: border-box;\n",
       "  text-align: center;\n",
       "}\n",
       "\n",
       "#sk-container-id-2 label.sk-toggleable__label-arrow:before {\n",
       "  /* Arrow on the left of the label */\n",
       "  content: \"▸\";\n",
       "  float: left;\n",
       "  margin-right: 0.25em;\n",
       "  color: var(--sklearn-color-icon);\n",
       "}\n",
       "\n",
       "#sk-container-id-2 label.sk-toggleable__label-arrow:hover:before {\n",
       "  color: var(--sklearn-color-text);\n",
       "}\n",
       "\n",
       "/* Toggleable content - dropdown */\n",
       "\n",
       "#sk-container-id-2 div.sk-toggleable__content {\n",
       "  max-height: 0;\n",
       "  max-width: 0;\n",
       "  overflow: hidden;\n",
       "  text-align: left;\n",
       "  /* unfitted */\n",
       "  background-color: var(--sklearn-color-unfitted-level-0);\n",
       "}\n",
       "\n",
       "#sk-container-id-2 div.sk-toggleable__content.fitted {\n",
       "  /* fitted */\n",
       "  background-color: var(--sklearn-color-fitted-level-0);\n",
       "}\n",
       "\n",
       "#sk-container-id-2 div.sk-toggleable__content pre {\n",
       "  margin: 0.2em;\n",
       "  border-radius: 0.25em;\n",
       "  color: var(--sklearn-color-text);\n",
       "  /* unfitted */\n",
       "  background-color: var(--sklearn-color-unfitted-level-0);\n",
       "}\n",
       "\n",
       "#sk-container-id-2 div.sk-toggleable__content.fitted pre {\n",
       "  /* unfitted */\n",
       "  background-color: var(--sklearn-color-fitted-level-0);\n",
       "}\n",
       "\n",
       "#sk-container-id-2 input.sk-toggleable__control:checked~div.sk-toggleable__content {\n",
       "  /* Expand drop-down */\n",
       "  max-height: 200px;\n",
       "  max-width: 100%;\n",
       "  overflow: auto;\n",
       "}\n",
       "\n",
       "#sk-container-id-2 input.sk-toggleable__control:checked~label.sk-toggleable__label-arrow:before {\n",
       "  content: \"▾\";\n",
       "}\n",
       "\n",
       "/* Pipeline/ColumnTransformer-specific style */\n",
       "\n",
       "#sk-container-id-2 div.sk-label input.sk-toggleable__control:checked~label.sk-toggleable__label {\n",
       "  color: var(--sklearn-color-text);\n",
       "  background-color: var(--sklearn-color-unfitted-level-2);\n",
       "}\n",
       "\n",
       "#sk-container-id-2 div.sk-label.fitted input.sk-toggleable__control:checked~label.sk-toggleable__label {\n",
       "  background-color: var(--sklearn-color-fitted-level-2);\n",
       "}\n",
       "\n",
       "/* Estimator-specific style */\n",
       "\n",
       "/* Colorize estimator box */\n",
       "#sk-container-id-2 div.sk-estimator input.sk-toggleable__control:checked~label.sk-toggleable__label {\n",
       "  /* unfitted */\n",
       "  background-color: var(--sklearn-color-unfitted-level-2);\n",
       "}\n",
       "\n",
       "#sk-container-id-2 div.sk-estimator.fitted input.sk-toggleable__control:checked~label.sk-toggleable__label {\n",
       "  /* fitted */\n",
       "  background-color: var(--sklearn-color-fitted-level-2);\n",
       "}\n",
       "\n",
       "#sk-container-id-2 div.sk-label label.sk-toggleable__label,\n",
       "#sk-container-id-2 div.sk-label label {\n",
       "  /* The background is the default theme color */\n",
       "  color: var(--sklearn-color-text-on-default-background);\n",
       "}\n",
       "\n",
       "/* On hover, darken the color of the background */\n",
       "#sk-container-id-2 div.sk-label:hover label.sk-toggleable__label {\n",
       "  color: var(--sklearn-color-text);\n",
       "  background-color: var(--sklearn-color-unfitted-level-2);\n",
       "}\n",
       "\n",
       "/* Label box, darken color on hover, fitted */\n",
       "#sk-container-id-2 div.sk-label.fitted:hover label.sk-toggleable__label.fitted {\n",
       "  color: var(--sklearn-color-text);\n",
       "  background-color: var(--sklearn-color-fitted-level-2);\n",
       "}\n",
       "\n",
       "/* Estimator label */\n",
       "\n",
       "#sk-container-id-2 div.sk-label label {\n",
       "  font-family: monospace;\n",
       "  font-weight: bold;\n",
       "  display: inline-block;\n",
       "  line-height: 1.2em;\n",
       "}\n",
       "\n",
       "#sk-container-id-2 div.sk-label-container {\n",
       "  text-align: center;\n",
       "}\n",
       "\n",
       "/* Estimator-specific */\n",
       "#sk-container-id-2 div.sk-estimator {\n",
       "  font-family: monospace;\n",
       "  border: 1px dotted var(--sklearn-color-border-box);\n",
       "  border-radius: 0.25em;\n",
       "  box-sizing: border-box;\n",
       "  margin-bottom: 0.5em;\n",
       "  /* unfitted */\n",
       "  background-color: var(--sklearn-color-unfitted-level-0);\n",
       "}\n",
       "\n",
       "#sk-container-id-2 div.sk-estimator.fitted {\n",
       "  /* fitted */\n",
       "  background-color: var(--sklearn-color-fitted-level-0);\n",
       "}\n",
       "\n",
       "/* on hover */\n",
       "#sk-container-id-2 div.sk-estimator:hover {\n",
       "  /* unfitted */\n",
       "  background-color: var(--sklearn-color-unfitted-level-2);\n",
       "}\n",
       "\n",
       "#sk-container-id-2 div.sk-estimator.fitted:hover {\n",
       "  /* fitted */\n",
       "  background-color: var(--sklearn-color-fitted-level-2);\n",
       "}\n",
       "\n",
       "/* Specification for estimator info (e.g. \"i\" and \"?\") */\n",
       "\n",
       "/* Common style for \"i\" and \"?\" */\n",
       "\n",
       ".sk-estimator-doc-link,\n",
       "a:link.sk-estimator-doc-link,\n",
       "a:visited.sk-estimator-doc-link {\n",
       "  float: right;\n",
       "  font-size: smaller;\n",
       "  line-height: 1em;\n",
       "  font-family: monospace;\n",
       "  background-color: var(--sklearn-color-background);\n",
       "  border-radius: 1em;\n",
       "  height: 1em;\n",
       "  width: 1em;\n",
       "  text-decoration: none !important;\n",
       "  margin-left: 1ex;\n",
       "  /* unfitted */\n",
       "  border: var(--sklearn-color-unfitted-level-1) 1pt solid;\n",
       "  color: var(--sklearn-color-unfitted-level-1);\n",
       "}\n",
       "\n",
       ".sk-estimator-doc-link.fitted,\n",
       "a:link.sk-estimator-doc-link.fitted,\n",
       "a:visited.sk-estimator-doc-link.fitted {\n",
       "  /* fitted */\n",
       "  border: var(--sklearn-color-fitted-level-1) 1pt solid;\n",
       "  color: var(--sklearn-color-fitted-level-1);\n",
       "}\n",
       "\n",
       "/* On hover */\n",
       "div.sk-estimator:hover .sk-estimator-doc-link:hover,\n",
       ".sk-estimator-doc-link:hover,\n",
       "div.sk-label-container:hover .sk-estimator-doc-link:hover,\n",
       ".sk-estimator-doc-link:hover {\n",
       "  /* unfitted */\n",
       "  background-color: var(--sklearn-color-unfitted-level-3);\n",
       "  color: var(--sklearn-color-background);\n",
       "  text-decoration: none;\n",
       "}\n",
       "\n",
       "div.sk-estimator.fitted:hover .sk-estimator-doc-link.fitted:hover,\n",
       ".sk-estimator-doc-link.fitted:hover,\n",
       "div.sk-label-container:hover .sk-estimator-doc-link.fitted:hover,\n",
       ".sk-estimator-doc-link.fitted:hover {\n",
       "  /* fitted */\n",
       "  background-color: var(--sklearn-color-fitted-level-3);\n",
       "  color: var(--sklearn-color-background);\n",
       "  text-decoration: none;\n",
       "}\n",
       "\n",
       "/* Span, style for the box shown on hovering the info icon */\n",
       ".sk-estimator-doc-link span {\n",
       "  display: none;\n",
       "  z-index: 9999;\n",
       "  position: relative;\n",
       "  font-weight: normal;\n",
       "  right: .2ex;\n",
       "  padding: .5ex;\n",
       "  margin: .5ex;\n",
       "  width: min-content;\n",
       "  min-width: 20ex;\n",
       "  max-width: 50ex;\n",
       "  color: var(--sklearn-color-text);\n",
       "  box-shadow: 2pt 2pt 4pt #999;\n",
       "  /* unfitted */\n",
       "  background: var(--sklearn-color-unfitted-level-0);\n",
       "  border: .5pt solid var(--sklearn-color-unfitted-level-3);\n",
       "}\n",
       "\n",
       ".sk-estimator-doc-link.fitted span {\n",
       "  /* fitted */\n",
       "  background: var(--sklearn-color-fitted-level-0);\n",
       "  border: var(--sklearn-color-fitted-level-3);\n",
       "}\n",
       "\n",
       ".sk-estimator-doc-link:hover span {\n",
       "  display: block;\n",
       "}\n",
       "\n",
       "/* \"?\"-specific style due to the `<a>` HTML tag */\n",
       "\n",
       "#sk-container-id-2 a.estimator_doc_link {\n",
       "  float: right;\n",
       "  font-size: 1rem;\n",
       "  line-height: 1em;\n",
       "  font-family: monospace;\n",
       "  background-color: var(--sklearn-color-background);\n",
       "  border-radius: 1rem;\n",
       "  height: 1rem;\n",
       "  width: 1rem;\n",
       "  text-decoration: none;\n",
       "  /* unfitted */\n",
       "  color: var(--sklearn-color-unfitted-level-1);\n",
       "  border: var(--sklearn-color-unfitted-level-1) 1pt solid;\n",
       "}\n",
       "\n",
       "#sk-container-id-2 a.estimator_doc_link.fitted {\n",
       "  /* fitted */\n",
       "  border: var(--sklearn-color-fitted-level-1) 1pt solid;\n",
       "  color: var(--sklearn-color-fitted-level-1);\n",
       "}\n",
       "\n",
       "/* On hover */\n",
       "#sk-container-id-2 a.estimator_doc_link:hover {\n",
       "  /* unfitted */\n",
       "  background-color: var(--sklearn-color-unfitted-level-3);\n",
       "  color: var(--sklearn-color-background);\n",
       "  text-decoration: none;\n",
       "}\n",
       "\n",
       "#sk-container-id-2 a.estimator_doc_link.fitted:hover {\n",
       "  /* fitted */\n",
       "  background-color: var(--sklearn-color-fitted-level-3);\n",
       "}\n",
       "</style><div id=\"sk-container-id-2\" class=\"sk-top-container\"><div class=\"sk-text-repr-fallback\"><pre>StackingClassifier(estimators=[(&#x27;multinmialNb&#x27;, MultinomialNB()),\n",
       "                               (&#x27;logiistic&#x27;,\n",
       "                                LogisticRegression(solver=&#x27;liblinear&#x27;))],\n",
       "                   final_estimator=RidgeClassifier())</pre><b>In a Jupyter environment, please rerun this cell to show the HTML representation or trust the notebook. <br />On GitHub, the HTML representation is unable to render, please try loading this page with nbviewer.org.</b></div><div class=\"sk-container\" hidden><div class=\"sk-item sk-dashed-wrapped\"><div class=\"sk-label-container\"><div class=\"sk-label fitted sk-toggleable\"><input class=\"sk-toggleable__control sk-hidden--visually\" id=\"sk-estimator-id-5\" type=\"checkbox\" ><label for=\"sk-estimator-id-5\" class=\"sk-toggleable__label fitted sk-toggleable__label-arrow fitted\">&nbsp;&nbsp;StackingClassifier<a class=\"sk-estimator-doc-link fitted\" rel=\"noreferrer\" target=\"_blank\" href=\"https://scikit-learn.org/1.4/modules/generated/sklearn.ensemble.StackingClassifier.html\">?<span>Documentation for StackingClassifier</span></a><span class=\"sk-estimator-doc-link fitted\">i<span>Fitted</span></span></label><div class=\"sk-toggleable__content fitted\"><pre>StackingClassifier(estimators=[(&#x27;multinmialNb&#x27;, MultinomialNB()),\n",
       "                               (&#x27;logiistic&#x27;,\n",
       "                                LogisticRegression(solver=&#x27;liblinear&#x27;))],\n",
       "                   final_estimator=RidgeClassifier())</pre></div> </div></div><div class=\"sk-serial\"><div class=\"sk-item\"><div class=\"sk-parallel\"><div class=\"sk-parallel-item\"><div class=\"sk-item\"><div class=\"sk-label-container\"><div class=\"sk-label fitted sk-toggleable\"><label>multinmialNb</label></div></div><div class=\"sk-serial\"><div class=\"sk-item\"><div class=\"sk-estimator fitted sk-toggleable\"><input class=\"sk-toggleable__control sk-hidden--visually\" id=\"sk-estimator-id-6\" type=\"checkbox\" ><label for=\"sk-estimator-id-6\" class=\"sk-toggleable__label fitted sk-toggleable__label-arrow fitted\">&nbsp;MultinomialNB<a class=\"sk-estimator-doc-link fitted\" rel=\"noreferrer\" target=\"_blank\" href=\"https://scikit-learn.org/1.4/modules/generated/sklearn.naive_bayes.MultinomialNB.html\">?<span>Documentation for MultinomialNB</span></a></label><div class=\"sk-toggleable__content fitted\"><pre>MultinomialNB()</pre></div> </div></div></div></div></div><div class=\"sk-parallel-item\"><div class=\"sk-item\"><div class=\"sk-label-container\"><div class=\"sk-label fitted sk-toggleable\"><label>logiistic</label></div></div><div class=\"sk-serial\"><div class=\"sk-item\"><div class=\"sk-estimator fitted sk-toggleable\"><input class=\"sk-toggleable__control sk-hidden--visually\" id=\"sk-estimator-id-7\" type=\"checkbox\" ><label for=\"sk-estimator-id-7\" class=\"sk-toggleable__label fitted sk-toggleable__label-arrow fitted\">&nbsp;LogisticRegression<a class=\"sk-estimator-doc-link fitted\" rel=\"noreferrer\" target=\"_blank\" href=\"https://scikit-learn.org/1.4/modules/generated/sklearn.linear_model.LogisticRegression.html\">?<span>Documentation for LogisticRegression</span></a></label><div class=\"sk-toggleable__content fitted\"><pre>LogisticRegression(solver=&#x27;liblinear&#x27;)</pre></div> </div></div></div></div></div></div></div><div class=\"sk-item\"><div class=\"sk-parallel\"><div class=\"sk-parallel-item\"><div class=\"sk-item\"><div class=\"sk-label-container\"><div class=\"sk-label fitted sk-toggleable\"><label>final_estimator</label></div></div><div class=\"sk-serial\"><div class=\"sk-item\"><div class=\"sk-estimator fitted sk-toggleable\"><input class=\"sk-toggleable__control sk-hidden--visually\" id=\"sk-estimator-id-8\" type=\"checkbox\" ><label for=\"sk-estimator-id-8\" class=\"sk-toggleable__label fitted sk-toggleable__label-arrow fitted\">&nbsp;RidgeClassifier<a class=\"sk-estimator-doc-link fitted\" rel=\"noreferrer\" target=\"_blank\" href=\"https://scikit-learn.org/1.4/modules/generated/sklearn.linear_model.RidgeClassifier.html\">?<span>Documentation for RidgeClassifier</span></a></label><div class=\"sk-toggleable__content fitted\"><pre>RidgeClassifier()</pre></div> </div></div></div></div></div></div></div></div></div></div></div>"
      ],
      "text/plain": [
       "StackingClassifier(estimators=[('multinmialNb', MultinomialNB()),\n",
       "                               ('logiistic',\n",
       "                                LogisticRegression(solver='liblinear'))],\n",
       "                   final_estimator=RidgeClassifier())"
      ]
     },
     "execution_count": 136,
     "metadata": {},
     "output_type": "execute_result"
    }
   ],
   "source": [
    "stacked_model.fit(x_train_res,y_train_res)"
   ]
  },
  {
   "cell_type": "code",
   "execution_count": 138,
   "id": "b00dce72-e9a2-44f8-be5b-92dd5266cbf3",
   "metadata": {},
   "outputs": [],
   "source": [
    "y_pred=stacked_model.predict(x_test_dense)"
   ]
  },
  {
   "cell_type": "code",
   "execution_count": 140,
   "id": "8eecdb31-ef56-4432-ba52-d878f6e197df",
   "metadata": {},
   "outputs": [
    {
     "name": "stdout",
     "output_type": "stream",
     "text": [
      "              precision    recall  f1-score   support\n",
      "\n",
      "           0       0.63      0.30      0.41       125\n",
      "           1       0.12      0.01      0.01       275\n",
      "           2       0.57      0.47      0.52       254\n",
      "           3       0.97      0.89      0.93        80\n",
      "           4       0.60      0.49      0.54        77\n",
      "           5       0.61      0.53      0.57       290\n",
      "           6       0.36      0.31      0.33       518\n",
      "           7       0.74      0.40      0.52       115\n",
      "           8       0.52      0.46      0.49       371\n",
      "           9       0.61      0.48      0.53       505\n",
      "          10       0.41      0.71      0.52       990\n",
      "\n",
      "    accuracy                           0.48      3600\n",
      "   macro avg       0.56      0.46      0.49      3600\n",
      "weighted avg       0.48      0.48      0.46      3600\n",
      "\n"
     ]
    }
   ],
   "source": [
    "print(classification_report(y_test,y_pred))"
   ]
  },
  {
   "cell_type": "code",
   "execution_count": null,
   "id": "1866099f-6811-4ccc-8a7e-fe2813518bac",
   "metadata": {},
   "outputs": [],
   "source": []
  }
 ],
 "metadata": {
  "kernelspec": {
   "display_name": "Python 3 (ipykernel)",
   "language": "python",
   "name": "python3"
  },
  "language_info": {
   "codemirror_mode": {
    "name": "ipython",
    "version": 3
   },
   "file_extension": ".py",
   "mimetype": "text/x-python",
   "name": "python",
   "nbconvert_exporter": "python",
   "pygments_lexer": "ipython3",
   "version": "3.12.4"
  }
 },
 "nbformat": 4,
 "nbformat_minor": 5
}
